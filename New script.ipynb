{
 "cells": [
  {
   "cell_type": "code",
   "execution_count": 6,
   "metadata": {},
   "outputs": [],
   "source": [
    "import torch\n",
    "import math\n",
    "\n",
    "def find_closest_cell(t, point, n):\n",
    "    \"\"\"\n",
    "    t: torch tensor filled with 1s and 2s\n",
    "    point: tuple (x,y) of the currently observed point\n",
    "    n: number to search for (1 or 2)\n",
    "    \"\"\"\n",
    "    closest_dist = math.inf\n",
    "    closest_cell = None\n",
    "    \n",
    "    cells = [(i, j) for i in range(t.size()[0]) for j in range(t.size()[1]) if t[i][j] == n]\n",
    "    \n",
    "    for cell_point in cells:\n",
    "        dist = abs(point[0] - cell_point[0]) + abs(point[1] - cell_point[1]) \n",
    "        if dist < closest_dist:\n",
    "            closest_dist = dist\n",
    "            closest_cell = cell_point\n",
    "                    \n",
    "    if closest_cell is None:\n",
    "        return math.inf\n",
    "    else:\n",
    "        return closest_dist"
   ]
  },
  {
   "cell_type": "code",
   "execution_count": 9,
   "metadata": {},
   "outputs": [
    {
     "data": {
      "text/plain": [
       "tensor([[0., 0., 0., 0., 0.],\n",
       "        [0., 0., 1., 0., 0.],\n",
       "        [0., 1., 0., 1., 0.],\n",
       "        [2., 2., 2., 1., 0.],\n",
       "        [0., 0., 0., 0., 2.]])"
      ]
     },
     "execution_count": 9,
     "metadata": {},
     "output_type": "execute_result"
    }
   ],
   "source": [
    "t = torch.zeros(5, 5)\n",
    "t[1][2] = 1\n",
    "t[2][1] = 1\n",
    "t[2][3] = 1\n",
    "t[3][0] = 2\n",
    "t[3][1] = 2\n",
    "t[3][2] = 2\n",
    "t[3][3] = 1\n",
    "t[4][4] = 2\n",
    "point = (1, 2)\n",
    "n = 2\n",
    "\n",
    "t"
   ]
  },
  {
   "cell_type": "code",
   "execution_count": 10,
   "metadata": {},
   "outputs": [
    {
     "data": {
      "text/plain": [
       "2"
      ]
     },
     "execution_count": 10,
     "metadata": {},
     "output_type": "execute_result"
    }
   ],
   "source": [
    "find_closest_cell(t, point, 1)"
   ]
  }
 ],
 "metadata": {
  "kernelspec": {
   "display_name": "Python 3",
   "language": "python",
   "name": "python3"
  },
  "language_info": {
   "codemirror_mode": {
    "name": "ipython",
    "version": 3
   },
   "file_extension": ".py",
   "mimetype": "text/x-python",
   "name": "python",
   "nbconvert_exporter": "python",
   "pygments_lexer": "ipython3",
   "version": "3.11.3"
  },
  "orig_nbformat": 4
 },
 "nbformat": 4,
 "nbformat_minor": 2
}
