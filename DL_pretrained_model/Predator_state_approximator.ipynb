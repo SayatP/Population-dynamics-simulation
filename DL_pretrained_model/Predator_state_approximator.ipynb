{
 "cells": [
  {
   "cell_type": "code",
   "execution_count": 7,
   "metadata": {},
   "outputs": [],
   "source": [
    "import numpy as np"
   ]
  },
  {
   "cell_type": "code",
   "execution_count": 10,
   "metadata": {},
   "outputs": [
    {
     "data": {
      "text/plain": [
       "array([[2., 1., 1.],\n",
       "       [1., 2., 1.],\n",
       "       [1., 1., 1.]])"
      ]
     },
     "execution_count": 10,
     "metadata": {},
     "output_type": "execute_result"
    }
   ],
   "source": [
    "def get_single_value(t, agent_coords):\n",
    "        distances = dict()\n",
    "        for x in range(t.shape[0]):\n",
    "            for y in range(t.shape[1]):\n",
    "                if x != agent_coords[0] or y != agent_coords[1]:\n",
    "                    dist = abs(agent_coords[0]-x) + abs(agent_coords[1]-y)\n",
    "\n",
    "                    if dist not in distances:\n",
    "                        distances[dist] = [t[x,y].item()]\n",
    "                    else:\n",
    "                        distances[dist].append(t[x,y].item())\n",
    "\n",
    "        for i, key in enumerate(sorted(distances.keys())):\n",
    "            item = distances[key]\n",
    "\n",
    "            if i == 0 and 1 in item:\n",
    "                return 1\n",
    "            \n",
    "            if 1 in item or 2 in item:\n",
    "                if item.count(2) > item.count(1):\n",
    "                    return 2\n",
    "                return 1\n",
    "\n",
    "        return 0\n",
    "\n",
    "\n",
    "def approximate(t):\n",
    "    new_t = np.zeros((3,3))\n",
    "    new_t[1,1] = 2\n",
    "\n",
    "    for i in range(3):\n",
    "        for j in range(3):\n",
    "            if i != 1 or j != 1:\n",
    "                new_t[i,j] = get_single_value(t[i:i+3,j:j+3], (2-i,2-j))\n",
    "\n",
    "    return new_t\n",
    "\n",
    "t = np.array([\n",
    "    [2, 1, 0, 1, 3],\n",
    "    [0, 2, 0, 1, 2],\n",
    "    [0, 0, 2, 1, 1],\n",
    "    [0, 1, 0, 0, 1],\n",
    "    [0, 0, 0, 0, 1]\n",
    "])\n",
    "\n",
    "approximate(t)"
   ]
  }
 ],
 "metadata": {
  "kernelspec": {
   "display_name": "Python 3",
   "language": "python",
   "name": "python3"
  },
  "language_info": {
   "codemirror_mode": {
    "name": "ipython",
    "version": 3
   },
   "file_extension": ".py",
   "mimetype": "text/x-python",
   "name": "python",
   "nbconvert_exporter": "python",
   "pygments_lexer": "ipython3",
   "version": "3.11.3"
  },
  "orig_nbformat": 4
 },
 "nbformat": 4,
 "nbformat_minor": 2
}
