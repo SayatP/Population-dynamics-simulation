{
 "cells": [
  {
   "cell_type": "code",
   "execution_count": 1,
   "metadata": {},
   "outputs": [],
   "source": [
    "import numpy as np"
   ]
  },
  {
   "cell_type": "code",
   "execution_count": 4,
   "metadata": {},
   "outputs": [
    {
     "data": {
      "text/plain": [
       "array([[2., 1., 1.],\n",
       "       [2., 2., 1.],\n",
       "       [2., 1., 1.]])"
      ]
     },
     "execution_count": 4,
     "metadata": {},
     "output_type": "execute_result"
    }
   ],
   "source": [
    "def manhattan_distance(p1, p2):\n",
    "    return abs(p1[0] - p2[0]) + abs(p1[1] - p2[1])\n",
    "\n",
    "\n",
    "def closest_number_2(array, x1, y1):\n",
    "    target_value = 2\n",
    "    closest_points = []\n",
    "    min_distance = float('inf')\n",
    "\n",
    "    for i in range(array.shape[0]):\n",
    "        for j in range(array.shape[1]):\n",
    "            if array[i, j] == target_value:\n",
    "                distance = manhattan_distance((i, j), (x1, y1))\n",
    "                if distance < min_distance:\n",
    "                    min_distance = distance\n",
    "                    closest_points = [(i, j)]\n",
    "                elif distance == min_distance:\n",
    "                    closest_points.append((i,j))\n",
    "\n",
    "    return closest_points\n",
    "\n",
    "\n",
    "def get_single_value(matrix, agent_coords):\n",
    "        distances = dict()\n",
    "        for x in range(matrix.shape[0]):\n",
    "            for y in range(matrix.shape[1]):\n",
    "                if x != agent_coords[0] or y != agent_coords[1]:\n",
    "                    dist = abs(agent_coords[0]-x) + abs(agent_coords[1]-y)\n",
    "\n",
    "                    if dist not in distances:\n",
    "                        distances[dist] = [(x, y, matrix[x,y].item())]   # x-coord, y-coord, value\n",
    "                    else:\n",
    "                        distances[dist].append((x, y, matrix[x,y].item()))\n",
    "\n",
    "\n",
    "        terminal = 0\n",
    "\n",
    "        for i, key in enumerate(sorted(distances.keys())):\n",
    "            item = distances[key]\n",
    "\n",
    "            if i == 0 and 1 in [triplet[2] for triplet in item]:\n",
    "                return 1\n",
    "            \n",
    "            for triplet in item:\n",
    "                if triplet[2] == 2:\n",
    "                    terminal = 2\n",
    "\n",
    "                if triplet[2] == 1:\n",
    "                    if tuple(agent_coords) in closest_number_2(matrix, triplet[0], triplet[1]):\n",
    "                        return 1\n",
    "\n",
    "        return terminal\n",
    "\n",
    "\n",
    "def approximate(matrix):\n",
    "    new_t = np.zeros((3,3))\n",
    "    new_t[1,1] = 2\n",
    "\n",
    "    for i in range(3):\n",
    "        for j in range(3):\n",
    "            if i != 1 or j != 1:\n",
    "                new_t[i,j] = get_single_value(matrix[i:i+3,j:j+3], (2-i,2-j))\n",
    "\n",
    "    return new_t\n",
    "\n",
    "\n",
    "matrix = np.array([\n",
    "    [1, 0, 0, 1, 0],\n",
    "    [0, 0, 0, 1, 2],\n",
    "    [2, 2, 2, 1, 1],\n",
    "    [0, 1, 0, 2, 1],\n",
    "    [0, 0, 0, 0, 1]\n",
    "])\n",
    "\n",
    "approximate(matrix)"
   ]
  }
 ],
 "metadata": {
  "kernelspec": {
   "display_name": "Python 3",
   "language": "python",
   "name": "python3"
  },
  "language_info": {
   "codemirror_mode": {
    "name": "ipython",
    "version": 3
   },
   "file_extension": ".py",
   "mimetype": "text/x-python",
   "name": "python",
   "nbconvert_exporter": "python",
   "pygments_lexer": "ipython3",
   "version": "3.11.3"
  },
  "orig_nbformat": 4
 },
 "nbformat": 4,
 "nbformat_minor": 2
}
