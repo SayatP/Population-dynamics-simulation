{
 "cells": [
  {
   "cell_type": "code",
   "execution_count": 234,
   "id": "c32c8466",
   "metadata": {},
   "outputs": [],
   "source": [
    "import numpy as np\n",
    "from unittest import mock\n",
    "\n",
    "from collections import defaultdict\n",
    "from grid import Grid, RandomGridGenerator\n",
    "\n",
    "from utils import two_int_to_hash"
   ]
  },
  {
   "cell_type": "code",
   "execution_count": 218,
   "id": "d86c7fe0",
   "metadata": {},
   "outputs": [],
   "source": [
    "# GLOBAL CONFIGS\n",
    "GRID_NUMBER_OF_ROWS = 10\n",
    "GRID_NUMBER_OF_COLS = 10\n",
    "\n",
    "PREDATOR_VISION_DIST = 3\n",
    "PREY_VISION_DIST = 2\n",
    "\n",
    "PREDATOR_VALUE = 1\n",
    "PREY_VALUE = -1\n",
    "\n",
    "PREDATOR_APPROXIMATE_SHARE = 0.4\n",
    "PREY_APPROXIMATE_SHARE = 0.6"
   ]
  },
  {
   "cell_type": "code",
   "execution_count": 210,
   "id": "56525264",
   "metadata": {},
   "outputs": [
    {
     "data": {
      "text/plain": [
       "array([[ 0,  0,  1, -1,  0,  0,  0, -1,  0,  0],\n",
       "       [ 0,  0, -1, -1,  0,  0,  0,  0, -1,  0],\n",
       "       [ 0,  0,  0,  0,  0,  0, -1,  0,  1,  0],\n",
       "       [ 0,  0,  0, -1,  0,  0,  0,  0,  1,  0],\n",
       "       [ 0,  0,  0,  0,  0,  0,  0, -1,  0,  0],\n",
       "       [ 0,  0,  0,  0,  0,  0,  0,  0,  0,  0],\n",
       "       [-1,  0,  0,  0,  0,  0,  0,  0, -1,  1],\n",
       "       [ 0,  0,  0,  0,  0,  0,  0, -1,  0,  1],\n",
       "       [ 0,  0,  0,  0,  1,  0,  1,  0,  0,  0],\n",
       "       [-1,  0,  0,  0,  0,  0,  0,  0,  1,  1]])"
      ]
     },
     "execution_count": 210,
     "metadata": {},
     "output_type": "execute_result"
    }
   ],
   "source": [
    "rgg = RandomGridGenerator(GRID_NUMBER_OF_ROWS, GRID_NUMBER_OF_COLS)\n",
    "\n",
    "generated_grid = rgg.getGrid(round(PREDATOR_APPROXIMATE_SHARE * 100) * [PREDATOR_VALUE] + round(PREY_APPROXIMATE_SHARE * 100) * [PREY_VALUE])\n",
    "generated_grid\n"
   ]
  },
  {
   "cell_type": "code",
   "execution_count": 212,
   "id": "2e458d9e",
   "metadata": {},
   "outputs": [],
   "source": [
    "grid = Grid(generated_grid)"
   ]
  },
  {
   "cell_type": "code",
   "execution_count": 222,
   "id": "46ebafdf",
   "metadata": {},
   "outputs": [],
   "source": [
    "predator_model = mock.Mock()\n",
    "prey_model = mock.Mock()"
   ]
  },
  {
   "cell_type": "code",
   "execution_count": null,
   "id": "922ea9ff",
   "metadata": {},
   "outputs": [],
   "source": []
  },
  {
   "cell_type": "code",
   "execution_count": 235,
   "id": "3132dbc8",
   "metadata": {},
   "outputs": [],
   "source": [
    "class Simulation:\n",
    "\n",
    "\n",
    "    def get_chosen_dests(self, grid: Grid):\n",
    "        chosen_dests = defaultdict(lambda: [])\n",
    "        for row, line in enumerate(grid.grid):\n",
    "            for col, item in enumerate(line):\n",
    "                if item == 0:\n",
    "                    continue\n",
    "\n",
    "                if item == PREDATOR_VALUE:\n",
    "                    vision_space = grid.getNeighbors(row, col, PREDATOR_VISION_DIST)\n",
    "                    dest_row, dest_col = 1,4 # predator_model.make_desiscion(vision_space)\n",
    "\n",
    "                if item == PREY_VALUE:\n",
    "                    vision_space = grid.getNeighbors(row, col, PREY_VISION_DIST)\n",
    "                    dest_row, dest_col = 3, 4 # prey_model.make_desiscion(vision_space)\n",
    "\n",
    "                chosen_dests[ two_int_to_hash(dest_row, dest_col)].append(item)\n",
    "\n",
    "        return chosen_dests"
   ]
  },
  {
   "cell_type": "code",
   "execution_count": 230,
   "id": "8954d60c",
   "metadata": {},
   "outputs": [
    {
     "data": {
      "text/plain": [
       "array([[ 0,  0,  1, -1,  0,  0,  0, -1,  0,  0],\n",
       "       [ 0,  0, -1, -1,  0,  0,  0,  0, -1,  0],\n",
       "       [ 0,  0,  0,  0,  0,  0, -1,  0,  1,  0],\n",
       "       [ 0,  0,  0, -1,  0,  0,  0,  0,  1,  0],\n",
       "       [ 0,  0,  0,  0,  0,  0,  0, -1,  0,  0],\n",
       "       [ 0,  0,  0,  0,  0,  0,  0,  0,  0,  0],\n",
       "       [-1,  0,  0,  0,  0,  0,  0,  0, -1,  1],\n",
       "       [ 0,  0,  0,  0,  0,  0,  0, -1,  0,  1],\n",
       "       [ 0,  0,  0,  0,  1,  0,  1,  0,  0,  0],\n",
       "       [-1,  0,  0,  0,  0,  0,  0,  0,  1,  1]])"
      ]
     },
     "execution_count": 230,
     "metadata": {},
     "output_type": "execute_result"
    }
   ],
   "source": [
    "grid.grid"
   ]
  },
  {
   "cell_type": "code",
   "execution_count": 237,
   "id": "b1d83e6b",
   "metadata": {},
   "outputs": [
    {
     "data": {
      "text/plain": [
       "defaultdict(<function __main__.Simulation.get_chosen_dests.<locals>.<lambda>()>,\n",
       "            {31528: [1, 1, 1, 1, 1, 1, 1, 1, 1],\n",
       "             31602: [-1, -1, -1, -1, -1, -1, -1, -1, -1, -1, -1, -1]})"
      ]
     },
     "execution_count": 237,
     "metadata": {},
     "output_type": "execute_result"
    }
   ],
   "source": [
    "s = Simulation()\n",
    "\n",
    "s.get_chosen_dests(grid)"
   ]
  },
  {
   "cell_type": "code",
   "execution_count": null,
   "id": "da481012",
   "metadata": {},
   "outputs": [],
   "source": []
  },
  {
   "cell_type": "code",
   "execution_count": null,
   "id": "0b107a1c",
   "metadata": {},
   "outputs": [],
   "source": []
  }
 ],
 "metadata": {
  "kernelspec": {
   "display_name": "Python 3 (ipykernel)",
   "language": "python",
   "name": "python3"
  },
  "language_info": {
   "codemirror_mode": {
    "name": "ipython",
    "version": 3
   },
   "file_extension": ".py",
   "mimetype": "text/x-python",
   "name": "python",
   "nbconvert_exporter": "python",
   "pygments_lexer": "ipython3",
   "version": "3.10.10"
  },
  "vscode": {
   "interpreter": {
    "hash": "767d51c1340bd893661ea55ea3124f6de3c7a262a8b4abca0554b478b1e2ff90"
   }
  }
 },
 "nbformat": 4,
 "nbformat_minor": 5
}
