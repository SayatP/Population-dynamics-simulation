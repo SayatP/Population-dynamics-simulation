{
 "cells": [
  {
   "cell_type": "code",
   "execution_count": 78,
   "id": "c32c8466",
   "metadata": {},
   "outputs": [],
   "source": [
    "import tqdm\n",
    "import random\n",
    "import numpy as np\n",
    "\n",
    "from time import sleep\n",
    "from collections import defaultdict\n",
    "from grid import Grid, RandomGridGenerator\n",
    "\n",
    "from IPython.display import clear_output\n",
    "from utils import two_int_to_hash, numpy_arr_to_str"
   ]
  },
  {
   "cell_type": "code",
   "execution_count": 79,
   "id": "d86c7fe0",
   "metadata": {},
   "outputs": [],
   "source": [
    "# GLOBAL CONFIGS\n",
    "GRID_NUMBER_OF_ROWS = 10\n",
    "GRID_NUMBER_OF_COLS = 10\n",
    "\n",
    "PREDATOR_VISION_DIST = 3\n",
    "PREY_VISION_DIST = 2\n",
    "\n",
    "PREDATOR_VALUE = 1\n",
    "PREY_VALUE = -1\n",
    "\n",
    "PREDATOR_APPROXIMATE_SHARE = 0.4\n",
    "PREY_APPROXIMATE_SHARE = 0.6\n",
    "\n",
    "alpha = 0.1\n",
    "gamma = 0.6\n",
    "epsilon = 0.1\n",
    "\n",
    "action_space = [\n",
    "    \"up\",\n",
    "    \"down\",\n",
    "    \"left\",\n",
    "    \"right\",\n",
    "]\n",
    "\n",
    "action_idxs = [0,1,2,3]"
   ]
  },
  {
   "cell_type": "code",
   "execution_count": 80,
   "id": "5364090d",
   "metadata": {},
   "outputs": [],
   "source": [
    "class Predator:\n",
    "    def __init__(self):\n",
    "        self.q_table = defaultdict(lambda: np.zeros(4))\n",
    "\n",
    "    def choose_next_cell(self, state):\n",
    "\n",
    "        if state not in self.q_table:\n",
    "             self.q_table[state] = np.zeros(4) # get from other model\n",
    "\n",
    "        if random.uniform(0, 1) < epsilon:\n",
    "            return random.choice(action_idxs)\n",
    "        else:\n",
    "            return np.argmax(self.q_table[state])\n",
    "\n",
    "class Prey:\n",
    "    def __init__(self):\n",
    "        self.q_table = defaultdict(lambda: np.zeros(4))\n",
    "\n",
    "    def choose_next_cell(self, state):\n",
    "\n",
    "        if state not in self.q_table:\n",
    "             self.q_table[state] = np.zeros(4) # get from other model\n",
    "\n",
    "        if random.uniform(0, 1) < epsilon:\n",
    "            return random.choice(action_idxs)\n",
    "        else:\n",
    "            return np.argmax(self.q_table[state])\n"
   ]
  },
  {
   "cell_type": "code",
   "execution_count": 81,
   "id": "81bc61b6",
   "metadata": {},
   "outputs": [],
   "source": [
    "class Simulation:\n",
    "\n",
    "    @staticmethod\n",
    "    def get_dest_from_action(action, row, col):\n",
    "        action = action_space[action]\n",
    "        if action == \"down\":\n",
    "            return (row+1) % GRID_NUMBER_OF_ROWS, col\n",
    "\n",
    "        elif action == \"up\":\n",
    "            return (row-1) % GRID_NUMBER_OF_ROWS, col\n",
    "\n",
    "        elif action == \"left\":\n",
    "            return row, (col-1)%GRID_NUMBER_OF_COLS\n",
    "\n",
    "        elif action == \"right\":\n",
    "            return row, (col+1)%GRID_NUMBER_OF_COLS\n",
    "\n",
    "        else:\n",
    "            raise Exception(f\"Action can't be {action}\")\n"
   ]
  },
  {
   "cell_type": "code",
   "execution_count": 82,
   "id": "56525264",
   "metadata": {},
   "outputs": [],
   "source": [
    "rgg = RandomGridGenerator(GRID_NUMBER_OF_ROWS, GRID_NUMBER_OF_COLS)\n",
    "\n",
    "generated_grid = rgg.getGrid(round(PREDATOR_APPROXIMATE_SHARE * 100) * [PREDATOR_VALUE] + round(PREY_APPROXIMATE_SHARE * 100) * [PREY_VALUE])"
   ]
  },
  {
   "cell_type": "code",
   "execution_count": null,
   "id": "2e458d9e",
   "metadata": {},
   "outputs": [],
   "source": []
  },
  {
   "cell_type": "code",
   "execution_count": null,
   "id": "a36efa3e",
   "metadata": {},
   "outputs": [],
   "source": [
    "\n"
   ]
  },
  {
   "cell_type": "code",
   "execution_count": 83,
   "id": "a9d0fc05",
   "metadata": {},
   "outputs": [],
   "source": [
    "predator = Predator()\n",
    "prey = Prey()\n",
    "simulation = Simulation()"
   ]
  },
  {
   "cell_type": "code",
   "execution_count": 87,
   "id": "0b107a1c",
   "metadata": {},
   "outputs": [
    {
     "name": "stdout",
     "output_type": "stream",
     "text": [
      "Episode: 99901\n",
      "[[ 0.  0.  0.  0.  0.  0.  0.  0. -1.  0.]\n",
      " [ 0. -1.  0.  0.  0.  0.  0.  0.  0.  0.]\n",
      " [ 0.  0.  0.  1.  0.  0.  0.  0.  0.  0.]\n",
      " [ 0.  0.  0.  0.  0.  0.  0.  0.  0.  0.]\n",
      " [ 0.  0.  0.  0. -1.  0.  0.  0. -1.  0.]\n",
      " [ 0.  0.  0. -1.  0.  0. -1.  0. -1.  0.]\n",
      " [ 0.  0.  0.  0.  0. -1.  0.  0. -1.  0.]\n",
      " [ 0.  0.  0.  0.  0.  0.  0.  0.  0.  0.]\n",
      " [ 0.  0.  0.  0.  0.  0.  0. -1.  0.  0.]\n",
      " [ 0.  0.  0. -1.  0.  0.  0.  0.  0.  1.]]\n"
     ]
    },
    {
     "name": "stderr",
     "output_type": "stream",
     "text": [
      "100%|███████████████████████████████████████████████████████████████████████████████████████████████████████████████| 100000/100000 [00:37<00:00, 2657.97it/s]\n"
     ]
    }
   ],
   "source": [
    "grid = Grid(generated_grid)\n",
    "prey_c = []\n",
    "pred_c = []\n",
    "for time in tqdm.tqdm(range(100000)):\n",
    "    next_state = np.zeros((grid.rown, grid.coln))\n",
    "\n",
    "    if time % 4 == 0:\n",
    "        for row, line in enumerate(grid.grid):\n",
    "            for col, item in enumerate(line):\n",
    "                if item == PREY_VALUE:\n",
    "                    vision_space = grid.getNeighbors(row, col, PREY_VISION_DIST)\n",
    "                    prey_action = prey.choose_next_cell(numpy_arr_to_str(vision_space))\n",
    "\n",
    "                    dest = simulation.get_dest_from_action(prey_action, row, col)\n",
    "                    next_state[dest[0], dest[1]] = item\n",
    "\n",
    "    else:\n",
    "        for row, line in enumerate(grid.grid):\n",
    "            for col, item in enumerate(line):\n",
    "                if item == PREY_VALUE:\n",
    "                    next_state[row, col] = item\n",
    "\n",
    "    if time % 3 == 0:\n",
    "        for row, line in enumerate(grid.grid):\n",
    "            for col, item in enumerate(line):\n",
    "                reward = 0\n",
    "                if item == PREDATOR_VALUE:\n",
    "                    vision_space = grid.getNeighbors(row, col, PREDATOR_VISION_DIST)\n",
    "                    prey_action = predator.choose_next_cell(numpy_arr_to_str(vision_space))\n",
    "                    dest = simulation.get_dest_from_action(prey_action, row, col)\n",
    "                    if next_state[dest[0], dest[1]] == PREY_VALUE:\n",
    "                        reward = 1\n",
    "\n",
    "                    next_state[dest[0], dest[1]] = item\n",
    "                    max_value = np.max(predator.q_table[numpy_arr_to_str(grid.getNeighborsFromNext(next_state, dest[0], dest[1], PREDATOR_VISION_DIST))])\n",
    "                    new_q_value = (1 - alpha) * predator.q_table[numpy_arr_to_str(vision_space)][prey_action] + alpha * (reward + gamma * max_value)\n",
    "                    predator.q_table[numpy_arr_to_str(vision_space)][prey_action] = new_q_value\n",
    "\n",
    "    else:\n",
    "        for row, line in enumerate(grid.grid):\n",
    "            for col, item in enumerate(line):\n",
    "                if item == PREDATOR_VALUE:\n",
    "                    next_state[row, col] = item\n",
    "\n",
    "\n",
    "    grid = Grid(next_state)\n",
    "\n",
    "    if np.count_nonzero(grid.grid == -1) < 10:\n",
    "        for row, line in enumerate(grid.grid):\n",
    "            for col, item in enumerate(line):\n",
    "                if item == 0 and random.uniform(0,1) < 0.1:\n",
    "                    grid.grid[row][col] = PREY_VALUE\n",
    "\n",
    "\n",
    "    prey_c.append(np.count_nonzero(grid.grid == -1) )\n",
    "    pred_c.append(np.count_nonzero(grid.grid == 1) )\n",
    "\n",
    "    if time % 100 == 0:\n",
    "        clear_output(wait=True)\n",
    "        print(\"Episode: {}\".format(time + 1))\n",
    "        print(grid.grid)\n"
   ]
  }
 ],
 "metadata": {
  "kernelspec": {
   "display_name": "Python 3 (ipykernel)",
   "language": "python",
   "name": "python3"
  },
  "language_info": {
   "codemirror_mode": {
    "name": "ipython",
    "version": 3
   },
   "file_extension": ".py",
   "mimetype": "text/x-python",
   "name": "python",
   "nbconvert_exporter": "python",
   "pygments_lexer": "ipython3",
   "version": "3.11.2"
  },
  "vscode": {
   "interpreter": {
    "hash": "767d51c1340bd893661ea55ea3124f6de3c7a262a8b4abca0554b478b1e2ff90"
   }
  }
 },
 "nbformat": 4,
 "nbformat_minor": 5
}
