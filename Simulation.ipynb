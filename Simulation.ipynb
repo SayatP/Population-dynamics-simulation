{
 "cells": [
  {
   "cell_type": "code",
   "execution_count": 92,
   "id": "c32c8466",
   "metadata": {},
   "outputs": [],
   "source": [
    "import tqdm\n",
    "import pickle\n",
    "import random\n",
    "import numpy as np\n",
    "\n",
    "from time import sleep\n",
    "from collections import defaultdict\n",
    "from grid import Grid, RandomGridGenerator\n",
    "\n",
    "from IPython.display import clear_output\n",
    "from utils import two_int_to_hash, numpy_arr_to_str, approximate_5x5_to_3x3"
   ]
  },
  {
   "cell_type": "code",
   "execution_count": 93,
   "id": "d86c7fe0",
   "metadata": {},
   "outputs": [],
   "source": [
    "# GLOBAL CONFIGS\n",
    "GRID_NUMBER_OF_ROWS = 100\n",
    "GRID_NUMBER_OF_COLS = 100\n",
    "\n",
    "PREDATOR_VISION_DIST = 3\n",
    "PREY_VISION_DIST = 2\n",
    "\n",
    "PREDATOR_VALUE = 1\n",
    "PREY_VALUE = 2\n",
    "\n",
    "PREDATOR_APPROXIMATE_SHARE = 0.2\n",
    "PREY_APPROXIMATE_SHARE = 0.8\n",
    "\n",
    "PREDATOR_DEFAULT_HEALTH = 100\n",
    "PREY_DEFAULT_HEALTH = 60\n",
    "\n",
    "alpha = 0.1\n",
    "gamma = 0.6\n",
    "epsilon = 0.1\n",
    "\n",
    "action_space = [\n",
    "    \"up\",\n",
    "    \"down\",\n",
    "    \"left\",\n",
    "    \"right\",\n",
    "    \"stay\",\n",
    "]\n",
    "\n",
    "[]\n",
    "\n",
    "action_idxs = [0,1,2,3,4]\n",
    "\n",
    "\n",
    "with open(\"DL_pretrained_model/predator_q_table.pickle\", \"rb\") as f:\n",
    "    pre_trained_data = pickle.load(f)\n"
   ]
  },
  {
   "cell_type": "code",
   "execution_count": 94,
   "id": "5364090d",
   "metadata": {},
   "outputs": [],
   "source": [
    "class AgentNet:\n",
    "    def __init__(self):\n",
    "        self.q_table = dict()\n",
    "\n",
    "    def choose_next_cell(self, state):\n",
    "        if state.shape[0] == 5:\n",
    "            state = approximate_5x5_to_3x3(state)\n",
    "\n",
    "        hashed_state = numpy_arr_to_str(state)\n",
    "\n",
    "        if hashed_state not in self.q_table:\n",
    "             self.q_table[hashed_state] = self._get_default_knowledge(hashed_state)\n",
    "\n",
    "        allowed_actions = self._get_allowed_actions(state)\n",
    "\n",
    "        if random.uniform(0, 1) < epsilon:\n",
    "            return random.choice(allowed_actions)\n",
    "        else:\n",
    "            return np.argmax(self.q_table[hashed_state][allowed_actions,])\n",
    "\n",
    "    def _get_allowed_actions(self, state):\n",
    "        actions = [4]\n",
    "\n",
    "        if state[0][1] == 0:\n",
    "            actions.append(0)\n",
    "\n",
    "        if state[2][1] == 0:\n",
    "            actions.append(1)\n",
    "\n",
    "        if state[1][0] == 0:\n",
    "            actions.append(2)\n",
    "\n",
    "        if state[1][2] == 0:\n",
    "            actions.append(3)\n",
    "\n",
    "        return actions\n",
    "\n",
    "    def _get_default_knowledge(self, hashed_state):\n",
    "        val = pre_trained_data[hashed_state]\n",
    "        return np.array(\n",
    "            [\n",
    "            val[1],\n",
    "            val[3],\n",
    "            val[4],\n",
    "            val[2],\n",
    "            val[0],])\n",
    "\n",
    "\n",
    "\n",
    "\n",
    "class PreyNet(AgentNet):\n",
    "    pass\n",
    "\n",
    "class PredatorNet(AgentNet):\n",
    "    pass\n"
   ]
  },
  {
   "cell_type": "code",
   "execution_count": 95,
   "id": "1f34a465",
   "metadata": {},
   "outputs": [],
   "source": [
    "predator_net = PredatorNet()\n",
    "prey_net = PreyNet()"
   ]
  },
  {
   "cell_type": "code",
   "execution_count": 96,
   "id": "23900801",
   "metadata": {},
   "outputs": [],
   "source": [
    "class Animal:\n",
    "    __slots__ = \"last_move\", \"remaining_life\", \"_type\"\n",
    "    def __init__(self, remaining_life, _type):\n",
    "        self.last_move = None\n",
    "        self.remaining_life = remaining_life\n",
    "        self._type = _type\n",
    "\n",
    "    def process_epoch(self):\n",
    "        self.remaining_life -= 1\n",
    "\n",
    "    def move(self, vision_matrix):\n",
    "        if self._type == PREDATOR_VALUE:\n",
    "            return predator_net.choose_next_cell(vision_matrix)\n",
    "        elif self._type == PREY_VALUE:\n",
    "            return prey_net.choose_next_cell(vision_matrix)\n"
   ]
  },
  {
   "cell_type": "code",
   "execution_count": 97,
   "id": "81bc61b6",
   "metadata": {},
   "outputs": [],
   "source": [
    "def get_dest_from_action(action, row, col):\n",
    "    action = action_space[action]\n",
    "    if action == \"down\":\n",
    "        return (row+1) % GRID_NUMBER_OF_ROWS, col\n",
    "\n",
    "    elif action == \"up\":\n",
    "        return (row-1) % GRID_NUMBER_OF_ROWS, col\n",
    "\n",
    "    elif action == \"left\":\n",
    "        return row, (col-1)%GRID_NUMBER_OF_COLS\n",
    "\n",
    "    elif action == \"right\":\n",
    "        return row, (col+1)%GRID_NUMBER_OF_COLS\n",
    "\n",
    "    elif action == \"stay\":\n",
    "        return row, col\n",
    "\n",
    "    else:\n",
    "        raise Exception(f\"Action can't be {action}\")\n",
    "    \n",
    "def grid_of_nums_to_objects(grid: Grid) -> np.array:\n",
    "    new_grid = np.empty(grid.grid.shape, dtype=object)\n",
    "    for rowidx, row in enumerate(grid.grid):\n",
    "        for colidx, val in enumerate(row):\n",
    "            if val == PREDATOR_VALUE:     \n",
    "                new_grid[rowidx][colidx] = Animal(PREDATOR_DEFAULT_HEALTH, PREDATOR_VALUE)\n",
    "            elif val == PREY_VALUE:\n",
    "                new_grid[rowidx][colidx] = Animal(PREY_DEFAULT_HEALTH, PREY_VALUE)\n",
    "\n",
    "    return new_grid\n"
   ]
  },
  {
   "cell_type": "code",
   "execution_count": 98,
   "id": "56525264",
   "metadata": {},
   "outputs": [],
   "source": [
    "rgg = RandomGridGenerator(GRID_NUMBER_OF_ROWS, GRID_NUMBER_OF_COLS)\n",
    "\n",
    "generated_grid = rgg.getGrid(round(PREDATOR_APPROXIMATE_SHARE * 100) * [PREDATOR_VALUE] + round(PREY_APPROXIMATE_SHARE * 100) * [PREY_VALUE])"
   ]
  },
  {
   "cell_type": "code",
   "execution_count": null,
   "id": "a9d0fc05",
   "metadata": {},
   "outputs": [],
   "source": [
    "\n",
    "\n"
   ]
  },
  {
   "cell_type": "code",
   "execution_count": 99,
   "id": "0b107a1c",
   "metadata": {},
   "outputs": [
    {
     "name": "stderr",
     "output_type": "stream",
     "text": [
      "  3%|██▌                                                                          | 339/10000 [00:07<03:39, 43.99it/s]"
     ]
    },
    {
     "name": "stdout",
     "output_type": "stream",
     "text": [
      "no more animals on the grid\n"
     ]
    },
    {
     "name": "stderr",
     "output_type": "stream",
     "text": [
      "\n"
     ]
    }
   ],
   "source": [
    "\n",
    "\n",
    "grid = Grid(generated_grid)\n",
    "object_grid = grid_of_nums_to_objects(grid)\n",
    "prey_c = []\n",
    "pred_c = []\n",
    "\n",
    "\n",
    "for time in tqdm.tqdm(range(10000)):\n",
    "\n",
    "    next_grid = np.zeros((grid.rown, grid.coln))\n",
    "    next_object_grid = np.empty(object_grid.shape, dtype=object)\n",
    "\n",
    "    for row, line in enumerate(grid.grid):\n",
    "        for col, item in enumerate(line):\n",
    "            if item == PREY_VALUE:\n",
    "                prey: Animal = object_grid[row][col]\n",
    "                prey.process_epoch()\n",
    "                if prey.remaining_life == 0:\n",
    "                    grid.grid[row][col] = 0\n",
    "                    object_grid[row][col] = None\n",
    "                    continue\n",
    "\n",
    "                if time % 4 == 0:\n",
    "                    vision_space = grid.getNeighbors(row, col, PREY_VISION_DIST)\n",
    "                    action = prey.move(vision_space)\n",
    "\n",
    "                    dest = get_dest_from_action(action, row, col)\n",
    "                    next_grid[dest[0], dest[1]] = item\n",
    "                    next_object_grid[dest[0], dest[1]] = prey\n",
    "\n",
    "                else:\n",
    "                    next_grid[row, col] = item\n",
    "                    next_object_grid[row, col] = prey\n",
    "\n",
    "            if item == PREDATOR_VALUE:\n",
    "                predator: Animal = object_grid[row][col]\n",
    "                predator.process_epoch()\n",
    "                if predator.remaining_life == 0:\n",
    "                    grid.grid[row][col] = 0\n",
    "                    object_grid[row][col] = None\n",
    "                    continue\n",
    "\n",
    "                if time % 3 == 0:\n",
    "                    reward = 0\n",
    "                    vision_space = grid.getNeighbors(row, col, PREDATOR_VISION_DIST)\n",
    "                    action = predator.move(vision_space)\n",
    "\n",
    "                    dest = get_dest_from_action(action, row, col)\n",
    "                    if next_grid[dest[0], dest[1]] == PREY_VALUE:\n",
    "                        reward = 1\n",
    "                        predator.remaining_life += 60\n",
    "\n",
    "\n",
    "                    app_next_vs = approximate_5x5_to_3x3(grid.getNeighborsFromNext(next_grid, dest[0], dest[1], PREDATOR_VISION_DIST))\n",
    "                    app_vs = approximate_5x5_to_3x3(vision_space)\n",
    "\n",
    "                    if predator_net.q_table.get(numpy_arr_to_str(app_next_vs)) is None:\n",
    "                        predator_net.q_table[numpy_arr_to_str(app_next_vs)] = predator_net._get_default_knowledge(numpy_arr_to_str(app_next_vs))\n",
    "\n",
    "                    max_value = np.max(predator_net.q_table[numpy_arr_to_str(app_next_vs)])\n",
    "                    new_q_value = (1 - alpha) * predator_net.q_table[numpy_arr_to_str(app_vs)][action] + alpha * (reward + gamma * max_value)\n",
    "                    predator_net.q_table[numpy_arr_to_str(app_vs)][action] = new_q_value\n",
    "\n",
    "\n",
    "\n",
    "                    next_grid[dest[0], dest[1]] = item\n",
    "                    next_object_grid[dest[0], dest[1]] = predator\n",
    "\n",
    "                else:\n",
    "                    next_grid[row, col] = item\n",
    "                    next_object_grid[row, col] = predator\n",
    "\n",
    "    grid = Grid(next_grid)\n",
    "    object_grid = next_object_grid\n",
    "\n",
    "\n",
    "    prey_count = np.count_nonzero(grid.grid == PREY_VALUE)\n",
    "    pred_count = np.count_nonzero(grid.grid == PREDATOR_VALUE)\n",
    "    prey_c.append(prey_count)\n",
    "    pred_c.append(pred_count)\n",
    "\n",
    "    if prey_count == 0 and pred_count == 0:\n",
    "        print(\"no more animals on the grid\")\n",
    "        break;\n",
    "        # for row, line in enumerate(grid.grid):\n",
    "        #     for col, item in enumerate(line):\n",
    "        #         if item == 0 and random.uniform(0,1) < 0.1:\n",
    "        #             grid.grid[row][col] = PREY_VALUE\n",
    "\n",
    "    # if time % 100 == 0:\n",
    "    # clear_output(wait=True)\n",
    "    # print(\"Episode: {}\".format(time + 1))\n",
    "    # print(grid.grid)\n",
    "    # print(object_grid)\n"
   ]
  },
  {
   "cell_type": "code",
   "execution_count": 103,
   "id": "da930e50",
   "metadata": {},
   "outputs": [
    {
     "data": {
      "text/plain": [
       "340"
      ]
     },
     "execution_count": 103,
     "metadata": {},
     "output_type": "execute_result"
    }
   ],
   "source": [
    "len(pred_c)\n",
    "len(prey_c)\n"
   ]
  },
  {
   "cell_type": "code",
   "execution_count": 104,
   "id": "51ac900d",
   "metadata": {},
   "outputs": [],
   "source": [
    "from matplotlib import pyplot as plt\n"
   ]
  },
  {
   "cell_type": "code",
   "execution_count": 106,
   "id": "275ce9d4",
   "metadata": {},
   "outputs": [
    {
     "data": {
      "image/png": "[encoded data removed]",
      "text/plain": [
       "<Figure size 640x480 with 1 Axes>"
      ]
     },
     "metadata": {},
     "output_type": "display_data"
    }
   ],
   "source": [
    "plt.scatter(list(range(len(pred_c))), pred_c)\n",
    "plt.scatter(list(range(len(pred_c))), prey_c)\n",
    "plt.show()"
   ]
  },
  {
   "cell_type": "code",
   "execution_count": null,
   "id": "46f86f02",
   "metadata": {},
   "outputs": [],
   "source": []
  }
 ],
 "metadata": {
  "kernelspec": {
   "display_name": "Python 3 (ipykernel)",
   "language": "python",
   "name": "python3"
  },
  "language_info": {
   "codemirror_mode": {
    "name": "ipython",
    "version": 3
   },
   "file_extension": ".py",
   "mimetype": "text/x-python",
   "name": "python",
   "nbconvert_exporter": "python",
   "pygments_lexer": "ipython3",
   "version": "3.11.3"
  },
  "vscode": {
   "interpreter": {
    "hash": "767d51c1340bd893661ea55ea3124f6de3c7a262a8b4abca0554b478b1e2ff90"
   }
  }
 },
 "nbformat": 4,
 "nbformat_minor": 5
}
