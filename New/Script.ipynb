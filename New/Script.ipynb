{
 "cells": [
  {
   "cell_type": "code",
   "execution_count": 93,
   "metadata": {},
   "outputs": [
    {
     "data": {
      "text/plain": [
       "tensor([[1, 2, 0, 0, 0, 0, 0, 0, 0, 0],\n",
       "        [0, 0, 0, 0, 0, 0, 0, 0, 0, 0],\n",
       "        [0, 0, 0, 0, 0, 0, 0, 0, 0, 1],\n",
       "        [0, 0, 0, 0, 0, 1, 0, 0, 0, 0],\n",
       "        [0, 0, 0, 1, 0, 0, 0, 0, 0, 0],\n",
       "        [0, 0, 0, 0, 0, 0, 0, 0, 0, 0],\n",
       "        [0, 0, 1, 0, 0, 0, 0, 0, 0, 0],\n",
       "        [0, 0, 0, 0, 0, 0, 0, 0, 0, 0],\n",
       "        [0, 0, 0, 0, 0, 0, 0, 2, 0, 0],\n",
       "        [0, 0, 0, 0, 0, 0, 0, 0, 0, 0]], dtype=torch.int32)"
      ]
     },
     "execution_count": 93,
     "metadata": {},
     "output_type": "execute_result"
    }
   ],
   "source": [
    "import torch\n",
    "import random\n",
    "\n",
    "# Agent class to represent predators and preys\n",
    "class Agent:\n",
    "    def __init__(self, agent_type, x, y):\n",
    "        self.agent_type = agent_type  # 1 for prey, 2 for predator\n",
    "        self.x = x  # x position on the grid\n",
    "        self.y = y  # y position on the grid\n",
    "\n",
    "\n",
    "\n",
    "# Game environment class to manage agents, grid, and game loop\n",
    "class GameEnvironment:\n",
    "    def __init__(self, grid_size, num_predators, num_preys):\n",
    "        self.grid_size = grid_size  # Size of the grid (e.g. (200, 100))\n",
    "        self.num_predators = num_predators  # Number of predators\n",
    "        self.num_preys = num_preys  # Number of preys\n",
    "        self.grid = torch.zeros(grid_size, dtype=torch.int)  # Initialize the grid with zeros using PyTorch tensors\n",
    "        self.predators = []  # List to store predator agents\n",
    "        self.preys = []  # List to store prey agents\n",
    "        \n",
    "        self.init_agents()  # Initialize agents on the grid\n",
    "\n",
    "    # Initialize predators and preys on the grid\n",
    "    def init_agents(self):\n",
    "        agent_positions = set()  # Set to store occupied positions on the grid\n",
    "\n",
    "        # Initialize predators\n",
    "        for _ in range(self.num_predators):\n",
    "            x, y = self.get_random_position(agent_positions)  # Get a random unoccupied position on the grid\n",
    "            agent_positions.add((x, y))  # Add the position to the set of occupied positions\n",
    "            predator = Agent(agent_type=2, x=x, y=y)  # Create a predator agent\n",
    "            self.predators.append(predator)  # Add the predator to the list of predators\n",
    "            self.grid[x, y] = 2  # Update the grid to indicate the predator's position\n",
    "\n",
    "        # Initialize preys\n",
    "        for _ in range(self.num_preys):\n",
    "            x, y = self.get_random_position(agent_positions)  # Get a random unoccupied position on the grid\n",
    "            agent_positions.add((x, y))  # Add the position to the set of occupied positions\n",
    "            prey = Agent(agent_type=1, x=x, y=y)  # Create a prey agent\n",
    "            self.preys.append(prey)  # Add the prey to the list of preys\n",
    "            self.grid[x, y] = 1  # Update the grid to indicate the prey's position\n",
    "\n",
    "    # Get a random unoccupied position on the grid\n",
    "    def get_random_position(self, agent_positions):\n",
    "        x, y = random.randint(0, self.grid_size[0]-1), random.randint(0, self.grid_size[1]-1)\n",
    "        # Ensure that the chosen position is not occupied by another agent\n",
    "        while (x, y) in agent_positions:\n",
    "            x, y = random.randint(0, self.grid_size[0]-1), random.randint(0, self.grid_size[1]-1)\n",
    "        return x, y\n",
    "\n",
    "# Example usage\n",
    "grid_size = (10, 10)\n",
    "num_predators = 2\n",
    "num_preys = 5\n",
    "\n",
    "game_env = GameEnvironment(grid_size, num_predators, num_preys)\n",
    "game_env.grid"
   ]
  },
  {
   "cell_type": "code",
   "execution_count": 115,
   "metadata": {},
   "outputs": [
    {
     "ename": "IndexError",
     "evalue": "index 9 is out of bounds for dimension 0 with size 5",
     "output_type": "error",
     "traceback": [
      "\u001b[0;31m---------------------------------------------------------------------------\u001b[0m",
      "\u001b[0;31mIndexError\u001b[0m                                Traceback (most recent call last)",
      "Cell \u001b[0;32mIn[115], line 43\u001b[0m\n\u001b[1;32m     39\u001b[0m         \u001b[39mreturn\u001b[39;00m vision\n\u001b[1;32m     42\u001b[0m p \u001b[39m=\u001b[39m Predator(\u001b[39m9\u001b[39m,\u001b[39m9\u001b[39m)\n\u001b[0;32m---> 43\u001b[0m p\u001b[39m.\u001b[39;49mupdate_vision(game_env)\n",
      "Cell \u001b[0;32mIn[115], line 37\u001b[0m, in \u001b[0;36mPredator.update_vision\u001b[0;34m(self, game_env)\u001b[0m\n\u001b[1;32m     34\u001b[0m         x, y \u001b[39m=\u001b[39m (\u001b[39mself\u001b[39m\u001b[39m.\u001b[39mx \u001b[39m+\u001b[39m i) \u001b[39m%\u001b[39m game_env\u001b[39m.\u001b[39mgrid_size[\u001b[39m0\u001b[39m], (\u001b[39mself\u001b[39m\u001b[39m.\u001b[39my \u001b[39m+\u001b[39m j) \u001b[39m%\u001b[39m game_env\u001b[39m.\u001b[39mgrid_size[\u001b[39m1\u001b[39m]\n\u001b[1;32m     35\u001b[0m         vision[i \u001b[39m+\u001b[39m \u001b[39m2\u001b[39m, j \u001b[39m+\u001b[39m \u001b[39m2\u001b[39m] \u001b[39m=\u001b[39m game_env\u001b[39m.\u001b[39mgrid[x, y]\n\u001b[0;32m---> 37\u001b[0m vision[\u001b[39mself\u001b[39;49m\u001b[39m.\u001b[39;49mx, \u001b[39mself\u001b[39;49m\u001b[39m.\u001b[39;49my] \u001b[39m=\u001b[39m \u001b[39m2\u001b[39m\n\u001b[1;32m     39\u001b[0m \u001b[39mreturn\u001b[39;00m vision\n",
      "\u001b[0;31mIndexError\u001b[0m: index 9 is out of bounds for dimension 0 with size 5"
     ]
    }
   ],
   "source": [
    "class Predator(Agent):\n",
    "    def __init__(self, x, y):\n",
    "        super().__init__(agent_type=2, x=x, y=y)\n",
    "        self.life_points = 80\n",
    "\n",
    "\n",
    "    def propose_move(self, action, game_env):\n",
    "        x, y = self.x, self.y\n",
    "        if action == \"top\":\n",
    "            x -= 1\n",
    "        elif action == \"down\":\n",
    "            x += 1\n",
    "        elif action == \"left\":\n",
    "            y -= 1\n",
    "        elif action == \"right\":\n",
    "            y += 1\n",
    "\n",
    "        x = x % game_env.grid_size[0]\n",
    "        y = y % game_env.grid_size[1]\n",
    "\n",
    "        return x, y\n",
    "    \n",
    "\n",
    "    def move(self, x, y, game_env):\n",
    "        game_env.grid[self.x, self.y] = 0\n",
    "        game_env.grid[x, y] = 2\n",
    "        self.x, self.y = x, y\n",
    "\n",
    "\n",
    "    def update_vision(self, game_env):\n",
    "        vision = torch.zeros((5, 5), dtype=torch.int)\n",
    "        for i in range(-2, 3):\n",
    "            for j in range(-2, 3):\n",
    "                x, y = (self.x + i) % game_env.grid_size[0], (self.y + j) % game_env.grid_size[1]\n",
    "                vision[i + 2, j + 2] = game_env.grid[x, y]\n",
    "\n",
    "        vision[self.x, self.y] = 2\n",
    "\n",
    "        return vision\n",
    "\n",
    "    \n",
    "p = Predator(9,9)\n",
    "p.update_vision(game_env)"
   ]
  }
 ],
 "metadata": {
  "kernelspec": {
   "display_name": "Python 3",
   "language": "python",
   "name": "python3"
  },
  "language_info": {
   "codemirror_mode": {
    "name": "ipython",
    "version": 3
   },
   "file_extension": ".py",
   "mimetype": "text/x-python",
   "name": "python",
   "nbconvert_exporter": "python",
   "pygments_lexer": "ipython3",
   "version": "3.11.3"
  },
  "orig_nbformat": 4
 },
 "nbformat": 4,
 "nbformat_minor": 2
}
